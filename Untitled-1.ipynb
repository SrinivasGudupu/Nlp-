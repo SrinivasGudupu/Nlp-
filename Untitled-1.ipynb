{
 "cells": [
  {
   "cell_type": "code",
   "execution_count": 1,
   "metadata": {},
   "outputs": [
    {
     "name": "stdout",
     "output_type": "stream",
     "text": [
      "Integer Value: 42 | Type: <class 'int'>\n",
      "Float Value: 3.14 | Type: <class 'float'>\n",
      "String Value: Hello, World | Type: <class 'str'>\n",
      "Boolean Value: True | Type: <class 'bool'>\n"
     ]
    }
   ],
   "source": [
    "# Declare variables of different data types\n",
    "integer_var = 42            # Integer\n",
    "float_var = 3.14            # Float\n",
    "string_var = \"Hello, World\" # String\n",
    "boolean_var = True          # Boolean\n",
    "\n",
    "# Print each variable and its type\n",
    "print(\"Integer Value:\", integer_var, \"| Type:\", type(integer_var))\n",
    "print(\"Float Value:\", float_var, \"| Type:\", type(float_var))\n",
    "print(\"String Value:\", string_var, \"| Type:\", type(string_var))\n",
    "print(\"Boolean Value:\", boolean_var, \"| Type:\", type(boolean_var))\n"
   ]
  },
  {
   "cell_type": "code",
   "execution_count": 2,
   "metadata": {},
   "outputs": [
    {
     "name": "stdout",
     "output_type": "stream",
     "text": [
      "List Element at Index 0: 10\n",
      "List Element at Index 3: 40\n",
      "Last Element in the List: 50\n",
      "Tuple Element at Index 1: banana\n",
      "Tuple Element at Index 4: elderberry\n",
      "First Element in the Tuple: apple\n",
      "Value for Key 'a': 1\n",
      "Value for Key 'd': 4\n",
      "\n",
      "Iterating through List:\n",
      "10\n",
      "20\n",
      "30\n",
      "40\n",
      "50\n",
      "\n",
      "Iterating through Tuple:\n",
      "apple\n",
      "banana\n",
      "cherry\n",
      "date\n",
      "elderberry\n",
      "\n",
      "Iterating through Dictionary:\n",
      "Key: a, Value: 1\n",
      "Key: b, Value: 2\n",
      "Key: c, Value: 3\n",
      "Key: d, Value: 4\n",
      "Key: e, Value: 5\n"
     ]
    }
   ],
   "source": [
    "# Create a List, Tuple, and Dictionary with 5 elements each\n",
    "my_list = [10, 20, 30, 40, 50]                # List\n",
    "my_tuple = (\"apple\", \"banana\", \"cherry\", \"date\", \"elderberry\")  # Tuple\n",
    "my_dict = {\"a\": 1, \"b\": 2, \"c\": 3, \"d\": 4, \"e\": 5}  # Dictionary\n",
    "\n",
    "# Accessing elements in the List\n",
    "print(\"List Element at Index 0:\", my_list[0])       # Access first element\n",
    "print(\"List Element at Index 3:\", my_list[3])       # Access fourth element\n",
    "print(\"Last Element in the List:\", my_list[-1])     # Access last element\n",
    "\n",
    "# Accessing elements in the Tuple\n",
    "print(\"Tuple Element at Index 1:\", my_tuple[1])     # Access second element\n",
    "print(\"Tuple Element at Index 4:\", my_tuple[4])     # Access fifth element\n",
    "print(\"First Element in the Tuple:\", my_tuple[0])   # Access first element\n",
    "\n",
    "# Accessing elements in the Dictionary\n",
    "print(\"Value for Key 'a':\", my_dict[\"a\"])           # Access value by key 'a'\n",
    "print(\"Value for Key 'd':\", my_dict[\"d\"])           # Access value by key 'd'\n",
    "\n",
    "# Iterating through the List, Tuple, and Dictionary\n",
    "print(\"\\nIterating through List:\")\n",
    "for item in my_list:\n",
    "    print(item)\n",
    "\n",
    "print(\"\\nIterating through Tuple:\")\n",
    "for item in my_tuple:\n",
    "    print(item)\n",
    "\n",
    "print(\"\\nIterating through Dictionary:\")\n",
    "for key, value in my_dict.items():\n",
    "    print(f\"Key: {key}, Value: {value}\")\n"
   ]
  },
  {
   "cell_type": "code",
   "execution_count": 3,
   "metadata": {},
   "outputs": [
    {
     "name": "stdout",
     "output_type": "stream",
     "text": [
      "Grade: Fail\n"
     ]
    }
   ],
   "source": [
    "# Input: Take marks for three subjects from the user\n",
    "subject1 = float(input(\"Enter marks for Subject 1: \"))\n",
    "subject2 = float(input(\"Enter marks for Subject 2: \"))\n",
    "subject3 = float(input(\"Enter marks for Subject 3: \"))\n",
    "\n",
    "# Calculate the average of the marks\n",
    "average = (subject1 + subject2 + subject3) / 3\n",
    "\n",
    "# Determine the grade based on the average\n",
    "if average >= 90:\n",
    "    print(\"Grade: A\")\n",
    "elif 80 <= average < 90:\n",
    "    print(\"Grade: B\")\n",
    "elif 70 <= average < 80:\n",
    "    print(\"Grade: C\")\n",
    "else:\n",
    "    print(\"Grade: Fail\")\n"
   ]
  },
  {
   "cell_type": "code",
   "execution_count": 4,
   "metadata": {},
   "outputs": [
    {
     "name": "stdout",
     "output_type": "stream",
     "text": [
      "The sum of all even numbers between 1 and 5 is: 6\n"
     ]
    }
   ],
   "source": [
    "# Input: Take the value of n from the user\n",
    "n = int(input(\"Enter a positive integer: \"))\n",
    "\n",
    "# Initialize the sum\n",
    "even_sum = 0\n",
    "\n",
    "# Loop through numbers from 1 to n\n",
    "for num in range(1, n + 1):\n",
    "    if num % 2 == 0:  # Check if the number is even\n",
    "        even_sum += num\n",
    "\n",
    "# Output the result\n",
    "print(f\"The sum of all even numbers between 1 and {n} is: {even_sum}\")\n"
   ]
  },
  {
   "cell_type": "code",
   "execution_count": 5,
   "metadata": {},
   "outputs": [
    {
     "name": "stdout",
     "output_type": "stream",
     "text": [
      "\n",
      "Word Frequency:\n",
      "hi: 1\n",
      "hello: 1\n"
     ]
    }
   ],
   "source": [
    "# Input: Take a text input from the user\n",
    "text = input(\"Enter the text: \")\n",
    "\n",
    "# Convert the text to lowercase and split it into words\n",
    "words = text.lower().split()\n",
    "\n",
    "# Create a dictionary to store word counts\n",
    "word_count = {}\n",
    "\n",
    "# Loop through the words and update the count in the dictionary\n",
    "for word in words:\n",
    "    if word in word_count:\n",
    "        word_count[word] += 1\n",
    "    else:\n",
    "        word_count[word] = 1\n",
    "\n",
    "# Print the words and their corresponding counts\n",
    "print(\"\\nWord Frequency:\")\n",
    "for word, count in word_count.items():\n",
    "    print(f\"{word}: {count}\")\n"
   ]
  },
  {
   "cell_type": "code",
   "execution_count": 6,
   "metadata": {},
   "outputs": [
    {
     "name": "stdout",
     "output_type": "stream",
     "text": [
      "Requirement already satisfied: nltk in c:\\users\\purna\\appdata\\local\\programs\\python\\python312\\lib\\site-packages (3.9.1)Note: you may need to restart the kernel to use updated packages.\n"
     ]
    },
    {
     "name": "stderr",
     "output_type": "stream",
     "text": [
      "ERROR: pip's dependency resolver does not currently take into account all the packages that are installed. This behaviour is the source of the following dependency conflicts.\n",
      "tensorflow-intel 2.17.0 requires numpy<2.0.0,>=1.26.0; python_version >= \"3.12\", but you have numpy 2.0.2 which is incompatible.\n",
      "tensorflow-intel 2.17.0 requires protobuf!=4.21.0,!=4.21.1,!=4.21.2,!=4.21.3,!=4.21.4,!=4.21.5,<5.0.0dev,>=3.20.3, but you have protobuf 5.29.2 which is incompatible.\n",
      "\n",
      "[notice] A new release of pip is available: 24.2 -> 25.0\n",
      "[notice] To update, run: python.exe -m pip install --upgrade pip\n"
     ]
    },
    {
     "name": "stdout",
     "output_type": "stream",
     "text": [
      "\n",
      "Requirement already satisfied: spacy in c:\\users\\purna\\appdata\\local\\programs\\python\\python312\\lib\\site-packages (3.8.2)\n",
      "Requirement already satisfied: click in c:\\users\\purna\\appdata\\local\\programs\\python\\python312\\lib\\site-packages (from nltk) (8.1.7)\n",
      "Requirement already satisfied: joblib in c:\\users\\purna\\appdata\\local\\programs\\python\\python312\\lib\\site-packages (from nltk) (1.4.2)\n",
      "Requirement already satisfied: regex>=2021.8.3 in c:\\users\\purna\\appdata\\local\\programs\\python\\python312\\lib\\site-packages (from nltk) (2024.9.11)\n",
      "Requirement already satisfied: tqdm in c:\\users\\purna\\appdata\\local\\programs\\python\\python312\\lib\\site-packages (from nltk) (4.66.5)\n",
      "Requirement already satisfied: spacy-legacy<3.1.0,>=3.0.11 in c:\\users\\purna\\appdata\\local\\programs\\python\\python312\\lib\\site-packages (from spacy) (3.0.12)\n",
      "Requirement already satisfied: spacy-loggers<2.0.0,>=1.0.0 in c:\\users\\purna\\appdata\\local\\programs\\python\\python312\\lib\\site-packages (from spacy) (1.0.5)\n",
      "Requirement already satisfied: murmurhash<1.1.0,>=0.28.0 in c:\\users\\purna\\appdata\\local\\programs\\python\\python312\\lib\\site-packages (from spacy) (1.0.10)\n",
      "Requirement already satisfied: cymem<2.1.0,>=2.0.2 in c:\\users\\purna\\appdata\\local\\programs\\python\\python312\\lib\\site-packages (from spacy) (2.0.8)\n",
      "Requirement already satisfied: preshed<3.1.0,>=3.0.2 in c:\\users\\purna\\appdata\\local\\programs\\python\\python312\\lib\\site-packages (from spacy) (3.0.9)\n",
      "Requirement already satisfied: thinc<8.4.0,>=8.3.0 in c:\\users\\purna\\appdata\\local\\programs\\python\\python312\\lib\\site-packages (from spacy) (8.3.2)\n",
      "Requirement already satisfied: wasabi<1.2.0,>=0.9.1 in c:\\users\\purna\\appdata\\local\\programs\\python\\python312\\lib\\site-packages (from spacy) (1.1.3)\n",
      "Requirement already satisfied: srsly<3.0.0,>=2.4.3 in c:\\users\\purna\\appdata\\local\\programs\\python\\python312\\lib\\site-packages (from spacy) (2.4.8)\n",
      "Requirement already satisfied: catalogue<2.1.0,>=2.0.6 in c:\\users\\purna\\appdata\\local\\programs\\python\\python312\\lib\\site-packages (from spacy) (2.0.10)\n",
      "Requirement already satisfied: weasel<0.5.0,>=0.1.0 in c:\\users\\purna\\appdata\\local\\programs\\python\\python312\\lib\\site-packages (from spacy) (0.4.1)\n",
      "Requirement already satisfied: typer<1.0.0,>=0.3.0 in c:\\users\\purna\\appdata\\local\\programs\\python\\python312\\lib\\site-packages (from spacy) (0.13.0)\n",
      "Requirement already satisfied: requests<3.0.0,>=2.13.0 in c:\\users\\purna\\appdata\\local\\programs\\python\\python312\\lib\\site-packages (from spacy) (2.32.3)\n",
      "Requirement already satisfied: pydantic!=1.8,!=1.8.1,<3.0.0,>=1.7.4 in c:\\users\\purna\\appdata\\local\\programs\\python\\python312\\lib\\site-packages (from spacy) (2.9.2)\n",
      "Requirement already satisfied: jinja2 in c:\\users\\purna\\appdata\\local\\programs\\python\\python312\\lib\\site-packages (from spacy) (3.1.4)\n",
      "Requirement already satisfied: setuptools in c:\\users\\purna\\appdata\\local\\programs\\python\\python312\\lib\\site-packages (from spacy) (73.0.0)\n",
      "Requirement already satisfied: packaging>=20.0 in c:\\users\\purna\\appdata\\local\\programs\\python\\python312\\lib\\site-packages (from spacy) (24.1)\n",
      "Requirement already satisfied: langcodes<4.0.0,>=3.2.0 in c:\\users\\purna\\appdata\\local\\programs\\python\\python312\\lib\\site-packages (from spacy) (3.4.1)\n",
      "Requirement already satisfied: numpy>=1.19.0 in c:\\users\\purna\\appdata\\local\\programs\\python\\python312\\lib\\site-packages (from spacy) (1.26.4)\n",
      "Requirement already satisfied: language-data>=1.2 in c:\\users\\purna\\appdata\\local\\programs\\python\\python312\\lib\\site-packages (from langcodes<4.0.0,>=3.2.0->spacy) (1.2.0)\n",
      "Requirement already satisfied: annotated-types>=0.6.0 in c:\\users\\purna\\appdata\\local\\programs\\python\\python312\\lib\\site-packages (from pydantic!=1.8,!=1.8.1,<3.0.0,>=1.7.4->spacy) (0.7.0)\n",
      "Requirement already satisfied: pydantic-core==2.23.4 in c:\\users\\purna\\appdata\\local\\programs\\python\\python312\\lib\\site-packages (from pydantic!=1.8,!=1.8.1,<3.0.0,>=1.7.4->spacy) (2.23.4)\n",
      "Requirement already satisfied: typing-extensions>=4.6.1 in c:\\users\\purna\\appdata\\local\\programs\\python\\python312\\lib\\site-packages (from pydantic!=1.8,!=1.8.1,<3.0.0,>=1.7.4->spacy) (4.12.2)\n",
      "Requirement already satisfied: charset-normalizer<4,>=2 in c:\\users\\purna\\appdata\\local\\programs\\python\\python312\\lib\\site-packages (from requests<3.0.0,>=2.13.0->spacy) (3.3.2)\n",
      "Requirement already satisfied: idna<4,>=2.5 in c:\\users\\purna\\appdata\\local\\programs\\python\\python312\\lib\\site-packages (from requests<3.0.0,>=2.13.0->spacy) (3.7)\n",
      "Requirement already satisfied: urllib3<3,>=1.21.1 in c:\\users\\purna\\appdata\\local\\programs\\python\\python312\\lib\\site-packages (from requests<3.0.0,>=2.13.0->spacy) (2.2.2)\n",
      "Requirement already satisfied: certifi>=2017.4.17 in c:\\users\\purna\\appdata\\local\\programs\\python\\python312\\lib\\site-packages (from requests<3.0.0,>=2.13.0->spacy) (2024.7.4)\n",
      "Requirement already satisfied: blis<1.1.0,>=1.0.0 in c:\\users\\purna\\appdata\\local\\programs\\python\\python312\\lib\\site-packages (from thinc<8.4.0,>=8.3.0->spacy) (1.0.1)\n",
      "Requirement already satisfied: confection<1.0.0,>=0.0.1 in c:\\users\\purna\\appdata\\local\\programs\\python\\python312\\lib\\site-packages (from thinc<8.4.0,>=8.3.0->spacy) (0.1.5)\n",
      "Collecting numpy>=1.19.0 (from spacy)\n",
      "  Using cached numpy-2.0.2-cp312-cp312-win_amd64.whl.metadata (59 kB)\n",
      "Requirement already satisfied: colorama in c:\\users\\purna\\appdata\\local\\programs\\python\\python312\\lib\\site-packages (from tqdm->nltk) (0.4.6)\n",
      "Requirement already satisfied: shellingham>=1.3.0 in c:\\users\\purna\\appdata\\local\\programs\\python\\python312\\lib\\site-packages (from typer<1.0.0,>=0.3.0->spacy) (1.5.4)\n",
      "Requirement already satisfied: rich>=10.11.0 in c:\\users\\purna\\appdata\\local\\programs\\python\\python312\\lib\\site-packages (from typer<1.0.0,>=0.3.0->spacy) (13.9.2)\n",
      "Requirement already satisfied: cloudpathlib<1.0.0,>=0.7.0 in c:\\users\\purna\\appdata\\local\\programs\\python\\python312\\lib\\site-packages (from weasel<0.5.0,>=0.1.0->spacy) (0.20.0)\n",
      "Requirement already satisfied: smart-open<8.0.0,>=5.2.1 in c:\\users\\purna\\appdata\\local\\programs\\python\\python312\\lib\\site-packages (from weasel<0.5.0,>=0.1.0->spacy) (7.0.5)\n",
      "Requirement already satisfied: MarkupSafe>=2.0 in c:\\users\\purna\\appdata\\local\\programs\\python\\python312\\lib\\site-packages (from jinja2->spacy) (2.1.5)\n",
      "Requirement already satisfied: marisa-trie>=0.7.7 in c:\\users\\purna\\appdata\\local\\programs\\python\\python312\\lib\\site-packages (from language-data>=1.2->langcodes<4.0.0,>=3.2.0->spacy) (1.2.1)\n",
      "Requirement already satisfied: markdown-it-py>=2.2.0 in c:\\users\\purna\\appdata\\local\\programs\\python\\python312\\lib\\site-packages (from rich>=10.11.0->typer<1.0.0,>=0.3.0->spacy) (3.0.0)\n",
      "Requirement already satisfied: pygments<3.0.0,>=2.13.0 in c:\\users\\purna\\appdata\\local\\programs\\python\\python312\\lib\\site-packages (from rich>=10.11.0->typer<1.0.0,>=0.3.0->spacy) (2.18.0)\n",
      "Requirement already satisfied: wrapt in c:\\users\\purna\\appdata\\local\\programs\\python\\python312\\lib\\site-packages (from smart-open<8.0.0,>=5.2.1->weasel<0.5.0,>=0.1.0->spacy) (1.16.0)\n",
      "Requirement already satisfied: mdurl~=0.1 in c:\\users\\purna\\appdata\\local\\programs\\python\\python312\\lib\\site-packages (from markdown-it-py>=2.2.0->rich>=10.11.0->typer<1.0.0,>=0.3.0->spacy) (0.1.2)\n",
      "Using cached numpy-2.0.2-cp312-cp312-win_amd64.whl (15.6 MB)\n",
      "Installing collected packages: numpy\n",
      "  Attempting uninstall: numpy\n",
      "    Found existing installation: numpy 1.26.4\n",
      "    Uninstalling numpy-1.26.4:\n",
      "      Successfully uninstalled numpy-1.26.4\n",
      "Successfully installed numpy-2.0.2\n"
     ]
    }
   ],
   "source": [
    "pip install nltk spacy"
   ]
  },
  {
   "cell_type": "code",
   "execution_count": 7,
   "metadata": {},
   "outputs": [
    {
     "name": "stderr",
     "output_type": "stream",
     "text": [
      "[nltk_data] Downloading package stopwords to\n",
      "[nltk_data]     C:\\Users\\Purna\\AppData\\Roaming\\nltk_data...\n",
      "[nltk_data]   Package stopwords is already up-to-date!\n"
     ]
    },
    {
     "name": "stdout",
     "output_type": "stream",
     "text": [
      "\u001b[38;5;2m✔ Download and installation successful\u001b[0m\n",
      "You can now load the package via spacy.load('en_core_web_sm')\n",
      "\u001b[38;5;3m⚠ Restart to reload dependencies\u001b[0m\n",
      "If you are in a Jupyter or Colab notebook, you may need to restart Python in\n",
      "order to load all the package's dependencies. You can do this by selecting the\n",
      "'Restart kernel' or 'Restart runtime' option.\n"
     ]
    }
   ],
   "source": [
    "# NLTK stopwords download\n",
    "import nltk\n",
    "nltk.download('stopwords')\n",
    "\n",
    "# SpaCy download for English model\n",
    "import spacy\n",
    "spacy.cli.download('en_core_web_sm')\n"
   ]
  },
  {
   "cell_type": "code",
   "execution_count": 8,
   "metadata": {},
   "outputs": [
    {
     "name": "stderr",
     "output_type": "stream",
     "text": [
      "[nltk_data] Downloading package stopwords to\n",
      "[nltk_data]     C:\\Users\\Purna\\AppData\\Roaming\\nltk_data...\n",
      "[nltk_data]   Package stopwords is already up-to-date!\n"
     ]
    },
    {
     "name": "stdout",
     "output_type": "stream",
     "text": [
      "\n",
      "Text after removing stopwords using NLTK:\n",
      "hello\n",
      "\n",
      "Text after removing stopwords using spaCy:\n",
      "hello\n"
     ]
    }
   ],
   "source": [
    "import nltk\n",
    "import spacy\n",
    "from nltk.corpus import stopwords\n",
    "\n",
    "# Download NLTK stopwords if not already downloaded\n",
    "nltk.download('stopwords')\n",
    "\n",
    "# Load spaCy's English language model\n",
    "nlp = spacy.load('en_core_web_sm')\n",
    "\n",
    "# Input text\n",
    "text = input(\"Enter the text: \")\n",
    "\n",
    "# Convert the text to lowercase\n",
    "lower_text = text.lower()\n",
    "\n",
    "# Remove stopwords using NLTK\n",
    "nltk_stopwords = set(stopwords.words('english'))\n",
    "words = lower_text.split()\n",
    "filtered_words = [word for word in words if word not in nltk_stopwords]\n",
    "\n",
    "# Remove stopwords using spaCy\n",
    "doc = nlp(lower_text)\n",
    "filtered_spacy_words = [token.text for token in doc if not token.is_stop]\n",
    "\n",
    "# Print results\n",
    "print(\"\\nText after removing stopwords using NLTK:\")\n",
    "print(' '.join(filtered_words))\n",
    "\n",
    "print(\"\\nText after removing stopwords using spaCy:\")\n",
    "print(' '.join(filtered_spacy_words))\n"
   ]
  },
  {
   "cell_type": "code",
   "execution_count": null,
   "metadata": {},
   "outputs": [],
   "source": []
  }
 ],
 "metadata": {
  "kernelspec": {
   "display_name": "Python 3",
   "language": "python",
   "name": "python3"
  },
  "language_info": {
   "codemirror_mode": {
    "name": "ipython",
    "version": 3
   },
   "file_extension": ".py",
   "mimetype": "text/x-python",
   "name": "python",
   "nbconvert_exporter": "python",
   "pygments_lexer": "ipython3",
   "version": "3.12.5"
  }
 },
 "nbformat": 4,
 "nbformat_minor": 2
}
